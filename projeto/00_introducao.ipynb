{
 "cells": [
  {
   "cell_type": "markdown",
   "metadata": {},
   "source": [
    "# Trabalho Final do módulo de Banco de dados - Execução do projeto\n",
    "Santander Coders 2024.1 - Trilha Engenheiro de dados\n",
    "\n",
    "Aluno: **Guilherme Varela**\n",
    "\n",
    "------------------------------------------------"
   ]
  },
  {
   "cell_type": "markdown",
   "metadata": {},
   "source": [
    "\n",
    "> **ATENÇÃO**\n",
    ">\n",
    "> Se quiser pular para a execução, vá direto ao notebook 01_execute_project\n",
    "> \n",
    "> Esta seção serve apenas para apresentar o dataset, introduzir minhas ideias iniciais sobre os dados e apresentar as perguntas que serão respondidas no fim\n"
   ]
  },
  {
   "cell_type": "markdown",
   "metadata": {},
   "source": [
    "## Resumo\n",
    "\n",
    "Este trabalho tem como objetivo realizar uma análise exploratória de uma base de dados de shipping,  em que há registros de compras de diversos produtos e seus respectivos status de pedido.\n",
    "\n",
    "Para obtenção de insights sobre os dados,  serão formuladas 15 perguntas. Essas perguntas funcionarão como provocações para que as informações sejam levantadas em forma de queries SQL. Cada pergunta resultara em uma query,  que será armazenada como uma view do banco de dados que foi chamado de \"ecommerce\".\n",
    "\n",
    "Após esta estapa,  os insights obtidos serão discutidos através de gráficos e tabelas,  geradas\n",
    "\n",
    "## Ponto de partida\n",
    "\n",
    "O ponto de partida para a análise é um [repositório do github](https://github.com/joelsonSantos/banco_de_dados-aula7) enviado pelo professor. Neste repositório,  são encontradas as bases de dados produtos.csv e vendas.csv,  além de dois notebooks,  um com o enunciado do trabalho e outro contendo análises iniciais,  para que o aluno tenha uma base inicial para execução de queries com python. Por último,  há o arquivo create_tables.py,  que faz a conexão com o banco de dados e cria as tabelas vendas e produtos no banco,  a partir dos arquivos csv.\n",
    "\n",
    "O repositório foi aproveitado para este trabalho. O arquivo analises.ipynp foi renomeado para main.ipynb."
   ]
  },
  {
   "cell_type": "markdown",
   "metadata": {},
   "source": [
    "## Dataset\n",
    "\n",
    "O dataset é composto por dois arquivos CSV: produtos e vendas. A tabela de produtos descreve os produtos comercializados, por exemplo:\n",
    "\n",
    "| code | product | price |\n",
    "|--- |--- |--- |\n",
    "| BS001873 | Apple Lightning Cable | $21.99 |"
   ]
  },
  {
   "cell_type": "markdown",
   "metadata": {},
   "source": [
    "Já tabela de vendas descreve os produtos comercializados:\n",
    "\n",
    "| Order_ID | Date | ship-service-level | Style | Codigo | Courier Status | Qty | ship-country | Fulfillment |\n",
    "|--- |--- |--- |--- |--- |--- |--- |--- |--- |\n",
    "| 171-8536041-9190708 | 6/29/2022 | Expedited | SET400 | BS001879 | Cancelled | 4 | AU | Yes |"
   ]
  },
  {
   "cell_type": "markdown",
   "metadata": {},
   "source": [
    "Observações sobre a tabela de vendas:\n",
    "\n",
    "- A coluna \"Codigo\" faz referência à coluna \"code\" da tabela de produtos e pode ser usada como chave estrangeira\n",
    "- Inicialmente, não se tem conhecimento sobre a semântica dos dados na coluna Style"
   ]
  },
  {
   "cell_type": "markdown",
   "metadata": {},
   "source": [
    "--------"
   ]
  },
  {
   "cell_type": "markdown",
   "metadata": {},
   "source": [
    "## Análise inicial e perguntas criadas"
   ]
  },
  {
   "cell_type": "markdown",
   "metadata": {},
   "source": [
    "A base de dados foi previamente analisada utilizando o programa LibreOffice. De forma empírica, pôde-se observar as colunas e linhas das planilhas e, com isso, foi possível levantar alguns dos questionamentos que nortearão o trabalho. \n",
    "\n",
    "Além do mais, 5 das dez perguntas foram geradas pelo ChatGPT, pois acredita-se que um bom engenheiro de dados precisa usar todos os recursos valiosos que estão ao seu alcance."
   ]
  },
  {
   "cell_type": "markdown",
   "metadata": {},
   "source": [
    "As 15 perguntas estão listadas abaixo:\n",
    "\n",
    "- 1. \n",
    "- 2. \n",
    "- 3. \n",
    "- 4. \n",
    "- 5. \n",
    "- 6. \n",
    "- 7. \n",
    "- 8. Existe uma sazonalidade nas vendas ao longo do ano? (Quais são os meses com mais vendas?)\n",
    "- 9. Quais são os produtos mais lucrativos em termos de receita?\n",
    "- 10. Qual é a quantidade média de itens por pedido? \n",
    "- 11. **(ChatGPT)** Como a quantidade de pedidos varia em relação ao dia da semana? \n",
    "- 12. **(ChatGPT)** Qual é a quantidade média de produtos por país de entrega? \n",
    "- 13. **(ChatGPT)** Existe uma correlação entre a quantidade de produtos e o serviço de envio escolhido? \n",
    "- 14. **(ChatGPT)** Existe uma diferença significativa na quantidade de produtos vendidos entre diferentes países de entrega? \n",
    "- 15. **(ChatGPT)** Quais são os estilos de produto mais populares? "
   ]
  },
  {
   "cell_type": "markdown",
   "metadata": {},
   "source": [
    "--------"
   ]
  }
 ],
 "metadata": {
  "language_info": {
   "name": "python"
  }
 },
 "nbformat": 4,
 "nbformat_minor": 2
}
